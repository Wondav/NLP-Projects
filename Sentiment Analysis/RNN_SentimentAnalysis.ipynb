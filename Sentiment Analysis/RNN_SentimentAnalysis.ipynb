{
 "cells": [
  {
   "cell_type": "markdown",
   "id": "78bd5efb",
   "metadata": {},
   "source": [
    "# Sentiment Analysis\n",
    "Multi-class Classification\n",
    "Text generation\n",
    "Machine Translation\n",
    "\n",
    "Sequence Data\n",
    "Many-To-One\n",
    "Many-To-Many"
   ]
  },
  {
   "cell_type": "code",
   "execution_count": 1,
   "id": "9df3d5f6",
   "metadata": {},
   "outputs": [],
   "source": [
    "import spacy\n",
    "import pandas as pd\n",
    "import numpy as np\n",
    "import matplotlib.pyplot as plt\n",
    "from spacy.lang.en.stop_words import STOP_WORDS\n",
    "from sklearn.model_selection import train_test_split\n",
    "from sklearn.metrics import confusion_matrix, accuracy_score, f1_score, roc_auc_score\n",
    "from tensorflow.keras.layers import Dense, GRU, LSTM, Embedding, Dropout, BatchNormalization\n",
    "from tensorflow.keras import Input, Model, Sequential\n",
    "from tensorflow.keras.preprocessing.text import Tokenizer\n",
    "from tensorflow.keras.preprocessing.sequence import pad_sequences\n",
    "from tensorflow.keras.callbacks import EarlyStopping, ModelCheckpoint\n",
    "nlp = spacy.load(\"en_core_web_sm\")"
   ]
  },
  {
   "cell_type": "code",
   "execution_count": 2,
   "id": "3fb2100b",
   "metadata": {},
   "outputs": [
    {
     "data": {
      "text/html": [
       "<div>\n",
       "<style scoped>\n",
       "    .dataframe tbody tr th:only-of-type {\n",
       "        vertical-align: middle;\n",
       "    }\n",
       "\n",
       "    .dataframe tbody tr th {\n",
       "        vertical-align: top;\n",
       "    }\n",
       "\n",
       "    .dataframe thead th {\n",
       "        text-align: right;\n",
       "    }\n",
       "</style>\n",
       "<table border=\"1\" class=\"dataframe\">\n",
       "  <thead>\n",
       "    <tr style=\"text-align: right;\">\n",
       "      <th></th>\n",
       "      <th>reviewTime</th>\n",
       "      <th>reviewerID</th>\n",
       "      <th>asin</th>\n",
       "      <th>reviewerName</th>\n",
       "      <th>helpful</th>\n",
       "      <th>reviewText</th>\n",
       "      <th>overall</th>\n",
       "      <th>summary</th>\n",
       "      <th>unixReviewTime</th>\n",
       "    </tr>\n",
       "  </thead>\n",
       "  <tbody>\n",
       "    <tr>\n",
       "      <th>0</th>\n",
       "      <td>2014-05-21</td>\n",
       "      <td>A30TL5EWN6DFXT</td>\n",
       "      <td>120401325X</td>\n",
       "      <td>christina</td>\n",
       "      <td>[0, 0]</td>\n",
       "      <td>They look good and stick good! I just don't li...</td>\n",
       "      <td>4</td>\n",
       "      <td>Looks Good</td>\n",
       "      <td>1400630400</td>\n",
       "    </tr>\n",
       "    <tr>\n",
       "      <th>1</th>\n",
       "      <td>2014-01-14</td>\n",
       "      <td>ASY55RVNIL0UD</td>\n",
       "      <td>120401325X</td>\n",
       "      <td>emily l.</td>\n",
       "      <td>[0, 0]</td>\n",
       "      <td>These stickers work like the review says they ...</td>\n",
       "      <td>5</td>\n",
       "      <td>Really great product.</td>\n",
       "      <td>1389657600</td>\n",
       "    </tr>\n",
       "    <tr>\n",
       "      <th>2</th>\n",
       "      <td>2014-06-26</td>\n",
       "      <td>A2TMXE2AFO7ONB</td>\n",
       "      <td>120401325X</td>\n",
       "      <td>Erica</td>\n",
       "      <td>[0, 0]</td>\n",
       "      <td>These are awesome and make my phone look so st...</td>\n",
       "      <td>5</td>\n",
       "      <td>LOVE LOVE LOVE</td>\n",
       "      <td>1403740800</td>\n",
       "    </tr>\n",
       "    <tr>\n",
       "      <th>3</th>\n",
       "      <td>2014-04-03</td>\n",
       "      <td>A8AJS1DW7L3JJ</td>\n",
       "      <td>3998899561</td>\n",
       "      <td>Agata Majchrzak</td>\n",
       "      <td>[1, 1]</td>\n",
       "      <td>This is a fantastic case. Very stylish and pro...</td>\n",
       "      <td>5</td>\n",
       "      <td>Perfect Case</td>\n",
       "      <td>1396483200</td>\n",
       "    </tr>\n",
       "    <tr>\n",
       "      <th>4</th>\n",
       "      <td>2014-04-13</td>\n",
       "      <td>A2YO4SCWAWNYBI</td>\n",
       "      <td>3998899561</td>\n",
       "      <td>Alex Maslakov</td>\n",
       "      <td>[0, 0]</td>\n",
       "      <td>this case fits perfectly on the s4 and keeps m...</td>\n",
       "      <td>5</td>\n",
       "      <td>Just what I needed</td>\n",
       "      <td>1397347200</td>\n",
       "    </tr>\n",
       "  </tbody>\n",
       "</table>\n",
       "</div>"
      ],
      "text/plain": [
       "   reviewTime      reviewerID        asin     reviewerName helpful  \\\n",
       "0  2014-05-21  A30TL5EWN6DFXT  120401325X        christina  [0, 0]   \n",
       "1  2014-01-14   ASY55RVNIL0UD  120401325X         emily l.  [0, 0]   \n",
       "2  2014-06-26  A2TMXE2AFO7ONB  120401325X            Erica  [0, 0]   \n",
       "3  2014-04-03   A8AJS1DW7L3JJ  3998899561  Agata Majchrzak  [1, 1]   \n",
       "4  2014-04-13  A2YO4SCWAWNYBI  3998899561    Alex Maslakov  [0, 0]   \n",
       "\n",
       "                                          reviewText  overall  \\\n",
       "0  They look good and stick good! I just don't li...        4   \n",
       "1  These stickers work like the review says they ...        5   \n",
       "2  These are awesome and make my phone look so st...        5   \n",
       "3  This is a fantastic case. Very stylish and pro...        5   \n",
       "4  this case fits perfectly on the s4 and keeps m...        5   \n",
       "\n",
       "                 summary  unixReviewTime  \n",
       "0             Looks Good      1400630400  \n",
       "1  Really great product.      1389657600  \n",
       "2         LOVE LOVE LOVE      1403740800  \n",
       "3           Perfect Case      1396483200  \n",
       "4     Just what I needed      1397347200  "
      ]
     },
     "execution_count": 2,
     "metadata": {},
     "output_type": "execute_result"
    }
   ],
   "source": [
    "data = pd.read_csv('review.csv')\n",
    "data.head()"
   ]
  },
  {
   "cell_type": "code",
   "execution_count": 3,
   "id": "9e910823",
   "metadata": {},
   "outputs": [],
   "source": [
    "data = data.dropna(axis=0, subset=['reviewText'])"
   ]
  },
  {
   "cell_type": "code",
   "execution_count": 4,
   "id": "51594419",
   "metadata": {},
   "outputs": [
    {
     "data": {
      "text/plain": [
       "(55014, 9)"
      ]
     },
     "execution_count": 4,
     "metadata": {},
     "output_type": "execute_result"
    }
   ],
   "source": [
    "data.shape"
   ]
  },
  {
   "cell_type": "code",
   "execution_count": 5,
   "id": "80b56ed9",
   "metadata": {},
   "outputs": [],
   "source": [
    "def preprocess(string):\n",
    "    doc = nlp(string)\n",
    "    lemma = [token.lemma_ for token in doc if token.lemma_.isalpha() or token.lemma_ not in STOP_WORDS]\n",
    "    return ' '.join(lemma)"
   ]
  },
  {
   "cell_type": "code",
   "execution_count": 6,
   "id": "7094093e",
   "metadata": {},
   "outputs": [],
   "source": [
    "X = []\n",
    "sentences = list(data['reviewText'])\n",
    "for sen in sentences:\n",
    "    X.append(preprocess(sen))\n",
    "\n",
    "y = np.array(data['overall'].map({1:0, 2:0, 3:1, 4:1, 5:1}))"
   ]
  },
  {
   "cell_type": "code",
   "execution_count": 7,
   "id": "6b32a4ca",
   "metadata": {},
   "outputs": [],
   "source": [
    "X_train, X_test, y_train, y_test = train_test_split(X, y, test_size=0.1, random_state=42)"
   ]
  },
  {
   "cell_type": "code",
   "execution_count": 8,
   "id": "019ac31f",
   "metadata": {},
   "outputs": [],
   "source": [
    "tokenizer = Tokenizer()\n",
    "tokenizer.fit_on_texts(X_train)\n",
    "\n",
    "X_train = tokenizer.texts_to_sequences(X_train)\n",
    "X_test = tokenizer.texts_to_sequences(X_test)"
   ]
  },
  {
   "cell_type": "code",
   "execution_count": 9,
   "id": "83142795",
   "metadata": {},
   "outputs": [
    {
     "name": "stdout",
     "output_type": "stream",
     "text": [
      "32924\n"
     ]
    }
   ],
   "source": [
    "print(len(tokenizer.word_index))"
   ]
  },
  {
   "cell_type": "code",
   "execution_count": 10,
   "id": "094e084c",
   "metadata": {},
   "outputs": [],
   "source": [
    "vocab_size = len(tokenizer.word_index)\n",
    "\n",
    "maxlen=200\n",
    "X_train = pad_sequences(X_train, padding='post', maxlen=maxlen)\n",
    "X_test = pad_sequences(X_test, padding='post', maxlen=maxlen)"
   ]
  },
  {
   "cell_type": "code",
   "execution_count": 14,
   "id": "2559a3ee",
   "metadata": {},
   "outputs": [],
   "source": [
    "data['preprocessed'] = X\n",
    "data.to_csv('ndata.csv',index=False)"
   ]
  },
  {
   "cell_type": "code",
   "execution_count": 15,
   "id": "ecf3b6e2",
   "metadata": {},
   "outputs": [],
   "source": [
    "model = Sequential()\n",
    "model.add(Embedding(input_dim=vocab_size+1, output_dim=300, input_length=maxlen, trainable=True, name=\"Input\"))\n",
    "model.add(Dense(300, name=\"Dense1\"))\n",
    "model.add(Dropout(rate=0.25, name=\"Dropout1\"))\n",
    "model.add(Dense(128, name=\"Dense2\"))\n",
    "model.add(LSTM(128, return_sequences=True, dropout=0.15, recurrent_dropout=0.15, name=\"LSTM\"))\n",
    "model.add(GRU(64, return_sequences=False, dropout=0.15, name=\"GRU\"))\n",
    "model.add(Dense(64, name=\"Dense3\"))\n",
    "model.add(Dropout(rate=0.15, name=\"Dropout2\"))\n",
    "model.add(Dense(32, name=\"Dense4\"))\n",
    "model.add(Dense(1, activation='sigmoid', name=\"Output\"))\n",
    "\n",
    "model.compile(loss='binary_crossentropy', optimizer='adam', metrics=['accuracy'])"
   ]
  },
  {
   "cell_type": "code",
   "execution_count": 16,
   "id": "6820b756",
   "metadata": {},
   "outputs": [
    {
     "name": "stdout",
     "output_type": "stream",
     "text": [
      "Model: \"sequential_1\"\n",
      "_________________________________________________________________\n",
      " Layer (type)                Output Shape              Param #   \n",
      "=================================================================\n",
      " Input (Embedding)           (None, 200, 300)          9877500   \n",
      "                                                                 \n",
      " Dense1 (Dense)              (None, 200, 300)          90300     \n",
      "                                                                 \n",
      " Dropout1 (Dropout)          (None, 200, 300)          0         \n",
      "                                                                 \n",
      " Dense2 (Dense)              (None, 200, 128)          38528     \n",
      "                                                                 \n",
      " LSTM (LSTM)                 (None, 200, 128)          131584    \n",
      "                                                                 \n",
      " GRU (GRU)                   (None, 64)                37248     \n",
      "                                                                 \n",
      " Dense3 (Dense)              (None, 64)                4160      \n",
      "                                                                 \n",
      " Dropout2 (Dropout)          (None, 64)                0         \n",
      "                                                                 \n",
      " Dense4 (Dense)              (None, 32)                2080      \n",
      "                                                                 \n",
      " Output (Dense)              (None, 1)                 33        \n",
      "                                                                 \n",
      "=================================================================\n",
      "Total params: 10,181,433\n",
      "Trainable params: 10,181,433\n",
      "Non-trainable params: 0\n",
      "_________________________________________________________________\n"
     ]
    }
   ],
   "source": [
    "model.summary()"
   ]
  },
  {
   "cell_type": "code",
   "execution_count": 17,
   "id": "5a78189f",
   "metadata": {},
   "outputs": [
    {
     "name": "stdout",
     "output_type": "stream",
     "text": [
      "Epoch 1/20\n",
      "619/619 [==============================] - 1973s 3s/step - loss: 0.3607 - accuracy: 0.8848 - val_loss: 0.3553 - val_accuracy: 0.8854\n",
      "Epoch 2/20\n",
      "619/619 [==============================] - 1533s 2s/step - loss: 0.3524 - accuracy: 0.8856 - val_loss: 0.3563 - val_accuracy: 0.8854\n",
      "Epoch 3/20\n",
      "619/619 [==============================] - 1418s 2s/step - loss: 0.3464 - accuracy: 0.8874 - val_loss: 0.3595 - val_accuracy: 0.8858\n",
      "Epoch 4/20\n",
      "619/619 [==============================] - 9585s 2s/step - loss: 0.3200 - accuracy: 0.8902 - val_loss: 0.2758 - val_accuracy: 0.8966\n",
      "Epoch 5/20\n",
      "619/619 [==============================] - 1217s 2s/step - loss: 0.2343 - accuracy: 0.9106 - val_loss: 0.2238 - val_accuracy: 0.9127\n",
      "Epoch 6/20\n",
      "619/619 [==============================] - 1203s 2s/step - loss: 0.1847 - accuracy: 0.9290 - val_loss: 0.2126 - val_accuracy: 0.9180\n",
      "Epoch 7/20\n",
      "619/619 [==============================] - 1262s 2s/step - loss: 0.1573 - accuracy: 0.9379 - val_loss: 0.2305 - val_accuracy: 0.9224\n",
      "Epoch 8/20\n",
      "619/619 [==============================] - 1311s 2s/step - loss: 0.1387 - accuracy: 0.9468 - val_loss: 0.2232 - val_accuracy: 0.9174\n",
      "Epoch 9/20\n",
      "619/619 [==============================] - 1383s 2s/step - loss: 0.1221 - accuracy: 0.9536 - val_loss: 0.2550 - val_accuracy: 0.9138\n",
      "Epoch 10/20\n",
      "619/619 [==============================] - 1425s 2s/step - loss: 0.1071 - accuracy: 0.9596 - val_loss: 0.2547 - val_accuracy: 0.9143\n",
      "Epoch 11/20\n",
      "619/619 [==============================] - 1322s 2s/step - loss: 0.0955 - accuracy: 0.9635 - val_loss: 0.2638 - val_accuracy: 0.9108\n"
     ]
    }
   ],
   "source": [
    "# Implement callbacks to handle overfitting\n",
    "early_stopping = EarlyStopping(monitor='val_loss', patience=5)\n",
    "model_save = ModelCheckpoint('best_model.hdf5', save_best_only=True)\n",
    "\n",
    "history = model.fit(X_train, y_train, batch_size=64, epochs=20, validation_split=0.2, callbacks=[early_stopping, model_save])"
   ]
  },
  {
   "cell_type": "code",
   "execution_count": 18,
   "id": "d160758d",
   "metadata": {},
   "outputs": [
    {
     "data": {
      "image/png": "[encoded data removed]",
      "text/plain": [
       "<Figure size 432x288 with 1 Axes>"
      ]
     },
     "metadata": {
      "needs_background": "light"
     },
     "output_type": "display_data"
    }
   ],
   "source": [
    "plt.figure()\n",
    "# Use the history metrics\n",
    "plt.plot(history.history['accuracy'])\n",
    "plt.plot(history.history['val_accuracy'])\n",
    "# Make it pretty\n",
    "plt.title('Model accuracy')\n",
    "plt.ylabel('Accuracy')\n",
    "plt.xlabel('Epoch')\n",
    "plt.legend(['Train','Validate'])\n",
    "plt.show()"
   ]
  },
  {
   "cell_type": "code",
   "execution_count": 19,
   "id": "85ac4e80",
   "metadata": {
    "scrolled": true
   },
   "outputs": [
    {
     "data": {
      "image/png": "[encoded data removed]",
      "text/plain": [
       "<Figure size 432x288 with 1 Axes>"
      ]
     },
     "metadata": {
      "needs_background": "light"
     },
     "output_type": "display_data"
    }
   ],
   "source": [
    "plt.figure()\n",
    "# Use the history metrics\n",
    "plt.plot(history.history['loss'])\n",
    "plt.plot(history.history['val_loss'])\n",
    "# Make it pretty\n",
    "plt.title('Model loss')\n",
    "plt.ylabel('Loss')\n",
    "plt.xlabel('Epoch')\n",
    "plt.legend(['Train','Validate'])\n",
    "plt.show()"
   ]
  },
  {
   "cell_type": "code",
   "execution_count": 20,
   "id": "19c56550",
   "metadata": {},
   "outputs": [
    {
     "name": "stdout",
     "output_type": "stream",
     "text": [
      "172/172 [==============================] - 53s 287ms/step - loss: 0.2597 - accuracy: 0.9122\n"
     ]
    },
    {
     "data": {
      "text/plain": [
       "[0.25965678691864014, 0.9122137427330017]"
      ]
     },
     "execution_count": 20,
     "metadata": {},
     "output_type": "execute_result"
    }
   ],
   "source": [
    "model.evaluate(X_test, y_test)"
   ]
  },
  {
   "cell_type": "code",
   "execution_count": 21,
   "id": "e0499341",
   "metadata": {},
   "outputs": [],
   "source": [
    "tes = \"I entered the school happily, after seeing how hectic the school was, and how annoying the rules were, I got furious, and started looking forward to the day I would leave\"\n",
    "\n",
    "tes = [preprocess(tes)]\n",
    "\n",
    "tes = tokenizer.texts_to_sequences(tes)\n",
    "tes = pad_sequences(tes, padding='post', maxlen=maxlen)"
   ]
  },
  {
   "cell_type": "code",
   "execution_count": 25,
   "id": "43e75312",
   "metadata": {},
   "outputs": [
    {
     "data": {
      "text/plain": [
       "array([[0.28682792]], dtype=float32)"
      ]
     },
     "execution_count": 25,
     "metadata": {},
     "output_type": "execute_result"
    }
   ],
   "source": [
    "model.predict(tes)"
   ]
  },
  {
   "cell_type": "code",
   "execution_count": 27,
   "id": "d31ebabb",
   "metadata": {},
   "outputs": [],
   "source": [
    "tes1 = \"The school is quite amazing, from the gates to the hostels, looking at all the structures, it was beyond my expectations\"\n",
    "\n",
    "tes1 = [preprocess(tes1)]\n",
    "\n",
    "tes1 = tokenizer.texts_to_sequences(tes1)\n",
    "tes1 = pad_sequences(tes1, padding='post', maxlen=maxlen)"
   ]
  },
  {
   "cell_type": "code",
   "execution_count": 28,
   "id": "0bb03fbe",
   "metadata": {},
   "outputs": [
    {
     "data": {
      "text/plain": [
       "array([[0.9943583]], dtype=float32)"
      ]
     },
     "execution_count": 28,
     "metadata": {},
     "output_type": "execute_result"
    }
   ],
   "source": [
    "model.predict(tes1)"
   ]
  },
  {
   "cell_type": "code",
   "execution_count": null,
   "id": "d7ba18e7",
   "metadata": {},
   "outputs": [],
   "source": []
  }
 ],
 "metadata": {
  "kernelspec": {
   "display_name": "Python 3 (ipykernel)",
   "language": "python",
   "name": "python3"
  },
  "language_info": {
   "codemirror_mode": {
    "name": "ipython",
    "version": 3
   },
   "file_extension": ".py",
   "mimetype": "text/x-python",
   "name": "python",
   "nbconvert_exporter": "python",
   "pygments_lexer": "ipython3",
   "version": "3.10.6"
  }
 },
 "nbformat": 4,
 "nbformat_minor": 5
}

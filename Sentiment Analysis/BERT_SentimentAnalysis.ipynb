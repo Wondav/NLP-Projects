{
 "cells": [
  {
   "cell_type": "code",
   "execution_count": 1,
   "id": "8cc8b23f",
   "metadata": {},
   "outputs": [],
   "source": [
    "import numpy as np\n",
    "import pandas as pd\n",
    "import tensorflow as tf\n",
    "from tensorflow.keras.losses import SparseCategoricalCrossentropy\n",
    "from datasets import Dataset\n",
    "from transformers import AutoTokenizer, TFAutoModelForSequenceClassification, TFBertModel, DataCollatorWithPadding"
   ]
  },
  {
   "cell_type": "code",
   "execution_count": 2,
   "id": "40e6d125",
   "metadata": {
    "scrolled": true
   },
   "outputs": [
    {
     "name": "stderr",
     "output_type": "stream",
     "text": [
      "All model checkpoint layers were used when initializing TFBertForSequenceClassification.\n",
      "\n",
      "Some layers of TFBertForSequenceClassification were not initialized from the model checkpoint at bert-base-uncased and are newly initialized: ['classifier']\n",
      "You should probably TRAIN this model on a down-stream task to be able to use it for predictions and inference.\n"
     ]
    }
   ],
   "source": [
    "checkpoint = \"bert-base-uncased\"\n",
    "tokenizer = AutoTokenizer.from_pretrained(checkpoint)\n",
    "model = TFAutoModelForSequenceClassification.from_pretrained(checkpoint)\n",
    "data_collator = DataCollatorWithPadding(tokenizer=tokenizer, return_tensors=\"tf\")"
   ]
  },
  {
   "cell_type": "code",
   "execution_count": 3,
   "id": "c0656fd7",
   "metadata": {},
   "outputs": [],
   "source": [
    "df = pd.read_csv('review.csv')\n",
    "df = df.dropna(axis=0, subset=['reviewText'])\n",
    "df['sentiment'] = df['overall'].map({1:0, 2:0, 3:1, 4:1, 5:1})\n",
    "df = df[[\"sentiment\", \"reviewText\"]]"
   ]
  },
  {
   "cell_type": "code",
   "execution_count": 4,
   "id": "a8d1f8aa",
   "metadata": {},
   "outputs": [],
   "source": [
    "dataset = Dataset.from_pandas(df)\n",
    "dataset = dataset.train_test_split(test_size=0.1)"
   ]
  },
  {
   "cell_type": "code",
   "execution_count": 6,
   "id": "ab62facc",
   "metadata": {},
   "outputs": [],
   "source": [
    "def tokenization(review):\n",
    "    return tokenizer(review[\"reviewText\"], truncation=True)"
   ]
  },
  {
   "cell_type": "code",
   "execution_count": 7,
   "id": "ceb1b99d",
   "metadata": {},
   "outputs": [
    {
     "data": {
      "application/vnd.jupyter.widget-view+json": {
       "model_id": "bc9dd45caebd498fb5d760e071580f91",
       "version_major": 2,
       "version_minor": 0
      },
      "text/plain": [
       "  0%|          | 0/50 [00:03<?, ?ba/s]"
      ]
     },
     "metadata": {},
     "output_type": "display_data"
    },
    {
     "data": {
      "application/vnd.jupyter.widget-view+json": {
       "model_id": "b8d9b28fff644fc7b5980b278fd9b5b7",
       "version_major": 2,
       "version_minor": 0
      },
      "text/plain": [
       "  0%|          | 0/6 [00:00<?, ?ba/s]"
      ]
     },
     "metadata": {},
     "output_type": "display_data"
    }
   ],
   "source": [
    "tok_data = dataset.map(tokenization, batched=True)"
   ]
  },
  {
   "cell_type": "code",
   "execution_count": 8,
   "id": "c019055b",
   "metadata": {},
   "outputs": [
    {
     "name": "stderr",
     "output_type": "stream",
     "text": [
      "You're using a BertTokenizerFast tokenizer. Please note that with a fast tokenizer, using the `__call__` method is faster than using a method to encode the text followed by a call to the `pad` method to get a padded encoding.\n"
     ]
    }
   ],
   "source": [
    "tf_train_data = tok_data[\"train\"].to_tf_dataset(\n",
    "                            columns=['attention_mask', 'input_ids', 'token_type_ids'],\n",
    "                            label_cols=['sentiment'],\n",
    "                            shuffle=False,\n",
    "                            collate_fn=data_collator,\n",
    "                            batch_size=8)"
   ]
  },
  {
   "cell_type": "code",
   "execution_count": 9,
   "id": "7690282a",
   "metadata": {},
   "outputs": [],
   "source": [
    "model.compile(optimizer=\"adam\", loss=SparseCategoricalCrossentropy(from_logits=True), metrics=[\"accuracy\"],)"
   ]
  },
  {
   "cell_type": "code",
   "execution_count": null,
   "id": "bbd4a461",
   "metadata": {},
   "outputs": [
    {
     "name": "stdout",
     "output_type": "stream",
     "text": [
      "   3/6189 [..............................] - ETA: 2220:32:13 - loss: 0.5525 - accuracy: 0.7083"
     ]
    }
   ],
   "source": [
    "model.fit(tf_train_data)"
   ]
  },
  {
   "cell_type": "code",
   "execution_count": 15,
   "id": "2535904f",
   "metadata": {},
   "outputs": [
    {
     "data": {
      "text/plain": [
       "Dataset({\n",
       "    features: ['sentiment', 'reviewText', '__index_level_0__', 'input_ids', 'token_type_ids', 'attention_mask'],\n",
       "    num_rows: 49512\n",
       "})"
      ]
     },
     "execution_count": 15,
     "metadata": {},
     "output_type": "execute_result"
    }
   ],
   "source": [
    "tok_data['train']"
   ]
  },
  {
   "cell_type": "code",
   "execution_count": null,
   "id": "68302b60",
   "metadata": {},
   "outputs": [],
   "source": [
    "sequences = [\"I love apostle's message, it is always spirit filled\", \n",
    "             \"Landmark university has good discipline, but the staffs make the school unbearable\"]"
   ]
  }
 ],
 "metadata": {
  "kernelspec": {
   "display_name": "Python 3 (ipykernel)",
   "language": "python",
   "name": "python3"
  },
  "language_info": {
   "codemirror_mode": {
    "name": "ipython",
    "version": 3
   },
   "file_extension": ".py",
   "mimetype": "text/x-python",
   "name": "python",
   "nbconvert_exporter": "python",
   "pygments_lexer": "ipython3",
   "version": "3.10.4"
  }
 },
 "nbformat": 4,
 "nbformat_minor": 5
}

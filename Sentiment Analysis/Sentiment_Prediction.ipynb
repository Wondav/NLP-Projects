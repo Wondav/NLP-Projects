{
 "cells": [
  {
   "cell_type": "code",
   "execution_count": 120,
   "id": "5d03dd8a",
   "metadata": {},
   "outputs": [],
   "source": [
    "import spacy\n",
    "import numpy as np\n",
    "import pandas as pd\n",
    "from spacy.lang.en.stop_words import STOP_WORDS\n",
    "from sklearn.feature_extraction.text import TfidfVectorizer, CountVectorizer\n",
    "from sklearn.model_selection import train_test_split\n",
    "from sklearn.naive_bayes import MultinomialNB\n",
    "from sklearn.linear_model import LogisticRegression\n",
    "from sklearn.metrics import accuracy_score, f1_score, confusion_matrix, roc_auc_score\n",
    "from sklearn.pipeline import Pipeline\n",
    "nlp = spacy.load(\"en_core_web_sm\")"
   ]
  },
  {
   "cell_type": "code",
   "execution_count": 2,
   "id": "b323894e",
   "metadata": {},
   "outputs": [
    {
     "data": {
      "text/html": [
       "<div>\n",
       "<style scoped>\n",
       "    .dataframe tbody tr th:only-of-type {\n",
       "        vertical-align: middle;\n",
       "    }\n",
       "\n",
       "    .dataframe tbody tr th {\n",
       "        vertical-align: top;\n",
       "    }\n",
       "\n",
       "    .dataframe thead th {\n",
       "        text-align: right;\n",
       "    }\n",
       "</style>\n",
       "<table border=\"1\" class=\"dataframe\">\n",
       "  <thead>\n",
       "    <tr style=\"text-align: right;\">\n",
       "      <th></th>\n",
       "      <th>reviewTime</th>\n",
       "      <th>reviewerID</th>\n",
       "      <th>asin</th>\n",
       "      <th>reviewerName</th>\n",
       "      <th>helpful</th>\n",
       "      <th>reviewText</th>\n",
       "      <th>overall</th>\n",
       "      <th>summary</th>\n",
       "      <th>unixReviewTime</th>\n",
       "    </tr>\n",
       "  </thead>\n",
       "  <tbody>\n",
       "    <tr>\n",
       "      <th>0</th>\n",
       "      <td>2014-05-21</td>\n",
       "      <td>A30TL5EWN6DFXT</td>\n",
       "      <td>120401325X</td>\n",
       "      <td>christina</td>\n",
       "      <td>[0, 0]</td>\n",
       "      <td>They look good and stick good! I just don't li...</td>\n",
       "      <td>4</td>\n",
       "      <td>Looks Good</td>\n",
       "      <td>1400630400</td>\n",
       "    </tr>\n",
       "    <tr>\n",
       "      <th>1</th>\n",
       "      <td>2014-01-14</td>\n",
       "      <td>ASY55RVNIL0UD</td>\n",
       "      <td>120401325X</td>\n",
       "      <td>emily l.</td>\n",
       "      <td>[0, 0]</td>\n",
       "      <td>These stickers work like the review says they ...</td>\n",
       "      <td>5</td>\n",
       "      <td>Really great product.</td>\n",
       "      <td>1389657600</td>\n",
       "    </tr>\n",
       "    <tr>\n",
       "      <th>2</th>\n",
       "      <td>2014-06-26</td>\n",
       "      <td>A2TMXE2AFO7ONB</td>\n",
       "      <td>120401325X</td>\n",
       "      <td>Erica</td>\n",
       "      <td>[0, 0]</td>\n",
       "      <td>These are awesome and make my phone look so st...</td>\n",
       "      <td>5</td>\n",
       "      <td>LOVE LOVE LOVE</td>\n",
       "      <td>1403740800</td>\n",
       "    </tr>\n",
       "    <tr>\n",
       "      <th>3</th>\n",
       "      <td>2014-04-03</td>\n",
       "      <td>A8AJS1DW7L3JJ</td>\n",
       "      <td>3998899561</td>\n",
       "      <td>Agata Majchrzak</td>\n",
       "      <td>[1, 1]</td>\n",
       "      <td>This is a fantastic case. Very stylish and pro...</td>\n",
       "      <td>5</td>\n",
       "      <td>Perfect Case</td>\n",
       "      <td>1396483200</td>\n",
       "    </tr>\n",
       "    <tr>\n",
       "      <th>4</th>\n",
       "      <td>2014-04-13</td>\n",
       "      <td>A2YO4SCWAWNYBI</td>\n",
       "      <td>3998899561</td>\n",
       "      <td>Alex Maslakov</td>\n",
       "      <td>[0, 0]</td>\n",
       "      <td>this case fits perfectly on the s4 and keeps m...</td>\n",
       "      <td>5</td>\n",
       "      <td>Just what I needed</td>\n",
       "      <td>1397347200</td>\n",
       "    </tr>\n",
       "  </tbody>\n",
       "</table>\n",
       "</div>"
      ],
      "text/plain": [
       "   reviewTime      reviewerID        asin     reviewerName helpful  \\\n",
       "0  2014-05-21  A30TL5EWN6DFXT  120401325X        christina  [0, 0]   \n",
       "1  2014-01-14   ASY55RVNIL0UD  120401325X         emily l.  [0, 0]   \n",
       "2  2014-06-26  A2TMXE2AFO7ONB  120401325X            Erica  [0, 0]   \n",
       "3  2014-04-03   A8AJS1DW7L3JJ  3998899561  Agata Majchrzak  [1, 1]   \n",
       "4  2014-04-13  A2YO4SCWAWNYBI  3998899561    Alex Maslakov  [0, 0]   \n",
       "\n",
       "                                          reviewText  overall  \\\n",
       "0  They look good and stick good! I just don't li...        4   \n",
       "1  These stickers work like the review says they ...        5   \n",
       "2  These are awesome and make my phone look so st...        5   \n",
       "3  This is a fantastic case. Very stylish and pro...        5   \n",
       "4  this case fits perfectly on the s4 and keeps m...        5   \n",
       "\n",
       "                 summary  unixReviewTime  \n",
       "0             Looks Good      1400630400  \n",
       "1  Really great product.      1389657600  \n",
       "2         LOVE LOVE LOVE      1403740800  \n",
       "3           Perfect Case      1396483200  \n",
       "4     Just what I needed      1397347200  "
      ]
     },
     "execution_count": 2,
     "metadata": {},
     "output_type": "execute_result"
    }
   ],
   "source": [
    "data=pd.read_csv('review.csv')\n",
    "data.head()"
   ]
  },
  {
   "cell_type": "code",
   "execution_count": 3,
   "id": "591e0b91",
   "metadata": {},
   "outputs": [
    {
     "data": {
      "text/plain": [
       "reviewTime          0\n",
       "reviewerID          0\n",
       "asin                0\n",
       "reviewerName      714\n",
       "helpful             0\n",
       "reviewText         31\n",
       "overall             0\n",
       "summary             0\n",
       "unixReviewTime      0\n",
       "dtype: int64"
      ]
     },
     "execution_count": 3,
     "metadata": {},
     "output_type": "execute_result"
    }
   ],
   "source": [
    "data.isnull().sum()"
   ]
  },
  {
   "cell_type": "code",
   "execution_count": 4,
   "id": "68f9f260",
   "metadata": {},
   "outputs": [
    {
     "data": {
      "text/plain": [
       "(55045, 9)"
      ]
     },
     "execution_count": 4,
     "metadata": {},
     "output_type": "execute_result"
    }
   ],
   "source": [
    "data.shape"
   ]
  },
  {
   "cell_type": "code",
   "execution_count": 5,
   "id": "9ecd574b",
   "metadata": {},
   "outputs": [],
   "source": [
    "data = data.dropna(axis=0, subset=['reviewText'])"
   ]
  },
  {
   "cell_type": "code",
   "execution_count": 6,
   "id": "50692b21",
   "metadata": {},
   "outputs": [],
   "source": [
    "def preprocess(string):\n",
    "    doc = nlp(string)\n",
    "    lemma = [token.lemma_ for token in doc if token.lemma_.isalpha() or token.lemma_ not in STOP_WORDS]\n",
    "    return ' '.join(lemma)"
   ]
  },
  {
   "cell_type": "code",
   "execution_count": null,
   "id": "a9867a05",
   "metadata": {},
   "outputs": [],
   "source": []
  },
  {
   "cell_type": "code",
   "execution_count": 7,
   "id": "39467c41",
   "metadata": {},
   "outputs": [],
   "source": [
    "data['prepro'] = data['reviewText'].apply(preprocess)\n",
    "data['sentiment'] = data['overall'].map({1:0, 2:0, 3:1, 4:1, 5:1})"
   ]
  },
  {
   "cell_type": "code",
   "execution_count": 9,
   "id": "0fadb698",
   "metadata": {},
   "outputs": [],
   "source": [
    "X, y = data['prepro'], data['sentiment']"
   ]
  },
  {
   "cell_type": "code",
   "execution_count": 10,
   "id": "5b9fece0",
   "metadata": {},
   "outputs": [],
   "source": [
    "X_train, X_test, y_train, y_test = train_test_split(X, y, test_size=0.2, stratify=y)"
   ]
  },
  {
   "cell_type": "code",
   "execution_count": 11,
   "id": "3a783f87",
   "metadata": {},
   "outputs": [],
   "source": [
    "vector = TfidfVectorizer()"
   ]
  },
  {
   "cell_type": "code",
   "execution_count": 12,
   "id": "00d79909",
   "metadata": {},
   "outputs": [],
   "source": [
    "X_vtrain = vector.fit_transform(X_train)\n",
    "X_vtest = vector.transform(X_test)"
   ]
  },
  {
   "cell_type": "code",
   "execution_count": 17,
   "id": "a4d081bf",
   "metadata": {},
   "outputs": [],
   "source": [
    "nb = MultinomialNB()\n",
    "lr = LogisticRegression(solver='liblinear')"
   ]
  },
  {
   "cell_type": "code",
   "execution_count": 18,
   "id": "d9c8fdac",
   "metadata": {},
   "outputs": [
    {
     "data": {
      "text/html": [
       "<style>#sk-container-id-2 {color: black;background-color: white;}#sk-container-id-2 pre{padding: 0;}#sk-container-id-2 div.sk-toggleable {background-color: white;}#sk-container-id-2 label.sk-toggleable__label {cursor: pointer;display: block;width: 100%;margin-bottom: 0;padding: 0.3em;box-sizing: border-box;text-align: center;}#sk-container-id-2 label.sk-toggleable__label-arrow:before {content: \"▸\";float: left;margin-right: 0.25em;color: #696969;}#sk-container-id-2 label.sk-toggleable__label-arrow:hover:before {color: black;}#sk-container-id-2 div.sk-estimator:hover label.sk-toggleable__label-arrow:before {color: black;}#sk-container-id-2 div.sk-toggleable__content {max-height: 0;max-width: 0;overflow: hidden;text-align: left;background-color: #f0f8ff;}#sk-container-id-2 div.sk-toggleable__content pre {margin: 0.2em;color: black;border-radius: 0.25em;background-color: #f0f8ff;}#sk-container-id-2 input.sk-toggleable__control:checked~div.sk-toggleable__content {max-height: 200px;max-width: 100%;overflow: auto;}#sk-container-id-2 input.sk-toggleable__control:checked~label.sk-toggleable__label-arrow:before {content: \"▾\";}#sk-container-id-2 div.sk-estimator input.sk-toggleable__control:checked~label.sk-toggleable__label {background-color: #d4ebff;}#sk-container-id-2 div.sk-label input.sk-toggleable__control:checked~label.sk-toggleable__label {background-color: #d4ebff;}#sk-container-id-2 input.sk-hidden--visually {border: 0;clip: rect(1px 1px 1px 1px);clip: rect(1px, 1px, 1px, 1px);height: 1px;margin: -1px;overflow: hidden;padding: 0;position: absolute;width: 1px;}#sk-container-id-2 div.sk-estimator {font-family: monospace;background-color: #f0f8ff;border: 1px dotted black;border-radius: 0.25em;box-sizing: border-box;margin-bottom: 0.5em;}#sk-container-id-2 div.sk-estimator:hover {background-color: #d4ebff;}#sk-container-id-2 div.sk-parallel-item::after {content: \"\";width: 100%;border-bottom: 1px solid gray;flex-grow: 1;}#sk-container-id-2 div.sk-label:hover label.sk-toggleable__label {background-color: #d4ebff;}#sk-container-id-2 div.sk-serial::before {content: \"\";position: absolute;border-left: 1px solid gray;box-sizing: border-box;top: 0;bottom: 0;left: 50%;z-index: 0;}#sk-container-id-2 div.sk-serial {display: flex;flex-direction: column;align-items: center;background-color: white;padding-right: 0.2em;padding-left: 0.2em;position: relative;}#sk-container-id-2 div.sk-item {position: relative;z-index: 1;}#sk-container-id-2 div.sk-parallel {display: flex;align-items: stretch;justify-content: center;background-color: white;position: relative;}#sk-container-id-2 div.sk-item::before, #sk-container-id-2 div.sk-parallel-item::before {content: \"\";position: absolute;border-left: 1px solid gray;box-sizing: border-box;top: 0;bottom: 0;left: 50%;z-index: -1;}#sk-container-id-2 div.sk-parallel-item {display: flex;flex-direction: column;z-index: 1;position: relative;background-color: white;}#sk-container-id-2 div.sk-parallel-item:first-child::after {align-self: flex-end;width: 50%;}#sk-container-id-2 div.sk-parallel-item:last-child::after {align-self: flex-start;width: 50%;}#sk-container-id-2 div.sk-parallel-item:only-child::after {width: 0;}#sk-container-id-2 div.sk-dashed-wrapped {border: 1px dashed gray;margin: 0 0.4em 0.5em 0.4em;box-sizing: border-box;padding-bottom: 0.4em;background-color: white;}#sk-container-id-2 div.sk-label label {font-family: monospace;font-weight: bold;display: inline-block;line-height: 1.2em;}#sk-container-id-2 div.sk-label-container {text-align: center;}#sk-container-id-2 div.sk-container {/* jupyter's `normalize.less` sets `[hidden] { display: none; }` but bootstrap.min.css set `[hidden] { display: none !important; }` so we also need the `!important` here to be able to override the default hidden behavior on the sphinx rendered scikit-learn.org. See: https://github.com/scikit-learn/scikit-learn/issues/21755 */display: inline-block !important;position: relative;}#sk-container-id-2 div.sk-text-repr-fallback {display: none;}</style><div id=\"sk-container-id-2\" class=\"sk-top-container\"><div class=\"sk-text-repr-fallback\"><pre>LogisticRegression(solver=&#x27;liblinear&#x27;)</pre><b>In a Jupyter environment, please rerun this cell to show the HTML representation or trust the notebook. <br />On GitHub, the HTML representation is unable to render, please try loading this page with nbviewer.org.</b></div><div class=\"sk-container\" hidden><div class=\"sk-item\"><div class=\"sk-estimator sk-toggleable\"><input class=\"sk-toggleable__control sk-hidden--visually\" id=\"sk-estimator-id-2\" type=\"checkbox\" checked><label for=\"sk-estimator-id-2\" class=\"sk-toggleable__label sk-toggleable__label-arrow\">LogisticRegression</label><div class=\"sk-toggleable__content\"><pre>LogisticRegression(solver=&#x27;liblinear&#x27;)</pre></div></div></div></div></div>"
      ],
      "text/plain": [
       "LogisticRegression(solver='liblinear')"
      ]
     },
     "execution_count": 18,
     "metadata": {},
     "output_type": "execute_result"
    }
   ],
   "source": [
    "nb.fit(X_vtrain, y_train)\n",
    "lr.fit(X_vtrain, y_train)"
   ]
  },
  {
   "cell_type": "code",
   "execution_count": 19,
   "id": "1c80495f",
   "metadata": {},
   "outputs": [],
   "source": [
    "y_nb = nb.predict(X_vtest)\n",
    "y_lr = lr.predict(X_vtest)"
   ]
  },
  {
   "cell_type": "code",
   "execution_count": 136,
   "id": "eedaefc6",
   "metadata": {
    "scrolled": true
   },
   "outputs": [
    {
     "name": "stdout",
     "output_type": "stream",
     "text": [
      "NB: 0.8856675452149414\n",
      "LR: 0.9190220848859402\n",
      "F1F1F1F1F1\n",
      "NB: 0.9393559583494022\n",
      "LR: 0.9556385362210605\n",
      "ROC_AUC_SCORE\n",
      "NB: 0.8235143587011595\n",
      "LR: 0.9261963819364003\n",
      "Confusion Matrix\n",
      "NB: [[   2    0]\n",
      " [1258 9743]]\n",
      "LR: [[ 515  146]\n",
      " [ 745 9597]]\n"
     ]
    }
   ],
   "source": [
    "print('NB: {}'.format(accuracy_score(y_test, y_nb)))\n",
    "print(f'LR: {accuracy_score(y_test, y_lr)}')\n",
    "print(\"F1F1F1F1F1\")\n",
    "print('NB: {}'.format(f1_score(y_test, y_nb)))\n",
    "print(f'LR: {f1_score(y_test, y_lr)}')\n",
    "print(\"ROC_AUC_SCORE\")\n",
    "print('NB: {}'.format(roc_auc_score(y_test, nb.predict_proba(X_vtest)[:,1])))\n",
    "print(f'LR: {roc_auc_score(y_test, lr.predict_proba(X_vtest)[:,1])}')\n",
    "print(\"Confusion Matrix\")\n",
    "print('NB: {}'.format(confusion_matrix(y_test, y_nb).T))\n",
    "print(f'LR: {confusion_matrix(y_test, y_lr).T}')"
   ]
  },
  {
   "cell_type": "code",
   "execution_count": 166,
   "id": "8643eda8",
   "metadata": {},
   "outputs": [],
   "source": [
    "sent = \"I don't like it, it normally hangs when I'm doing big things with it and that drives me crazy, though it seemed to be the when it was produced\""
   ]
  },
  {
   "cell_type": "code",
   "execution_count": 167,
   "id": "6492d2a4",
   "metadata": {},
   "outputs": [],
   "source": [
    "sent = preprocess(sent)"
   ]
  },
  {
   "cell_type": "code",
   "execution_count": 168,
   "id": "e51665ab",
   "metadata": {},
   "outputs": [],
   "source": [
    "sent = vector.transform([sent])"
   ]
  },
  {
   "cell_type": "code",
   "execution_count": 169,
   "id": "9913e97b",
   "metadata": {},
   "outputs": [
    {
     "data": {
      "text/plain": [
       "array([1], dtype=int64)"
      ]
     },
     "execution_count": 169,
     "metadata": {},
     "output_type": "execute_result"
    }
   ],
   "source": [
    "lr.predict(sent)"
   ]
  },
  {
   "cell_type": "code",
   "execution_count": 165,
   "id": "83159fab",
   "metadata": {},
   "outputs": [
    {
     "data": {
      "text/plain": [
       "array([1], dtype=int64)"
      ]
     },
     "execution_count": 165,
     "metadata": {},
     "output_type": "execute_result"
    }
   ],
   "source": [
    "nb.predict(sent)"
   ]
  },
  {
   "cell_type": "code",
   "execution_count": null,
   "id": "98d6cea2",
   "metadata": {},
   "outputs": [],
   "source": []
  }
 ],
 "metadata": {
  "kernelspec": {
   "display_name": "Python 3 (ipykernel)",
   "language": "python",
   "name": "python3"
  },
  "language_info": {
   "codemirror_mode": {
    "name": "ipython",
    "version": 3
   },
   "file_extension": ".py",
   "mimetype": "text/x-python",
   "name": "python",
   "nbconvert_exporter": "python",
   "pygments_lexer": "ipython3",
   "version": "3.10.4"
  }
 },
 "nbformat": 4,
 "nbformat_minor": 5
}

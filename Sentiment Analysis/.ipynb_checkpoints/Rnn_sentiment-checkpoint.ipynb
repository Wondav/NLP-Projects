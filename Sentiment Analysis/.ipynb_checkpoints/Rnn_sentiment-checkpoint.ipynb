{
 "cells": [
  {
   "cell_type": "markdown",
   "id": "78bd5efb",
   "metadata": {},
   "source": [
    "# Sentiment Analysis\n",
    "Multi-class Classification\n",
    "Text generation\n",
    "Machine Translation\n",
    "\n",
    "Sequence Data\n",
    "Many-To-One\n",
    "Many-To-Many"
   ]
  },
  {
   "cell_type": "code",
   "execution_count": 1,
   "id": "9df3d5f6",
   "metadata": {},
   "outputs": [],
   "source": [
    "import spacy\n",
    "import pandas as pd\n",
    "import numpy as np\n",
    "import matplotlib.pyplot as plt\n",
    "from spacy.lang.en.stop_words import STOP_WORDS\n",
    "from sklearn.model_selection import train_test_split\n",
    "from sklearn.metrics import confusion_matrix, accuracy_score, f1_score, roc_auc_score\n",
    "from tensorflow.keras.layers import Dense, GRU, LSTM, Embedding, Dropout\n",
    "from tensorflow.keras import Input, Model, Sequential\n",
    "from tensorflow.keras.preprocessing.text import Tokenizer\n",
    "from tensorflow.keras.preprocessing.sequence import pad_sequences\n",
    "nlp = spacy.load(\"en_core_web_sm\")"
   ]
  },
  {
   "cell_type": "code",
   "execution_count": 2,
   "id": "3fb2100b",
   "metadata": {},
   "outputs": [
    {
     "data": {
      "text/html": [
       "<div>\n",
       "<style scoped>\n",
       "    .dataframe tbody tr th:only-of-type {\n",
       "        vertical-align: middle;\n",
       "    }\n",
       "\n",
       "    .dataframe tbody tr th {\n",
       "        vertical-align: top;\n",
       "    }\n",
       "\n",
       "    .dataframe thead th {\n",
       "        text-align: right;\n",
       "    }\n",
       "</style>\n",
       "<table border=\"1\" class=\"dataframe\">\n",
       "  <thead>\n",
       "    <tr style=\"text-align: right;\">\n",
       "      <th></th>\n",
       "      <th>reviewTime</th>\n",
       "      <th>reviewerID</th>\n",
       "      <th>asin</th>\n",
       "      <th>reviewerName</th>\n",
       "      <th>helpful</th>\n",
       "      <th>reviewText</th>\n",
       "      <th>overall</th>\n",
       "      <th>summary</th>\n",
       "      <th>unixReviewTime</th>\n",
       "    </tr>\n",
       "  </thead>\n",
       "  <tbody>\n",
       "    <tr>\n",
       "      <th>0</th>\n",
       "      <td>2014-05-21</td>\n",
       "      <td>A30TL5EWN6DFXT</td>\n",
       "      <td>120401325X</td>\n",
       "      <td>christina</td>\n",
       "      <td>[0, 0]</td>\n",
       "      <td>They look good and stick good! I just don't li...</td>\n",
       "      <td>4</td>\n",
       "      <td>Looks Good</td>\n",
       "      <td>1400630400</td>\n",
       "    </tr>\n",
       "    <tr>\n",
       "      <th>1</th>\n",
       "      <td>2014-01-14</td>\n",
       "      <td>ASY55RVNIL0UD</td>\n",
       "      <td>120401325X</td>\n",
       "      <td>emily l.</td>\n",
       "      <td>[0, 0]</td>\n",
       "      <td>These stickers work like the review says they ...</td>\n",
       "      <td>5</td>\n",
       "      <td>Really great product.</td>\n",
       "      <td>1389657600</td>\n",
       "    </tr>\n",
       "    <tr>\n",
       "      <th>2</th>\n",
       "      <td>2014-06-26</td>\n",
       "      <td>A2TMXE2AFO7ONB</td>\n",
       "      <td>120401325X</td>\n",
       "      <td>Erica</td>\n",
       "      <td>[0, 0]</td>\n",
       "      <td>These are awesome and make my phone look so st...</td>\n",
       "      <td>5</td>\n",
       "      <td>LOVE LOVE LOVE</td>\n",
       "      <td>1403740800</td>\n",
       "    </tr>\n",
       "    <tr>\n",
       "      <th>3</th>\n",
       "      <td>2014-04-03</td>\n",
       "      <td>A8AJS1DW7L3JJ</td>\n",
       "      <td>3998899561</td>\n",
       "      <td>Agata Majchrzak</td>\n",
       "      <td>[1, 1]</td>\n",
       "      <td>This is a fantastic case. Very stylish and pro...</td>\n",
       "      <td>5</td>\n",
       "      <td>Perfect Case</td>\n",
       "      <td>1396483200</td>\n",
       "    </tr>\n",
       "    <tr>\n",
       "      <th>4</th>\n",
       "      <td>2014-04-13</td>\n",
       "      <td>A2YO4SCWAWNYBI</td>\n",
       "      <td>3998899561</td>\n",
       "      <td>Alex Maslakov</td>\n",
       "      <td>[0, 0]</td>\n",
       "      <td>this case fits perfectly on the s4 and keeps m...</td>\n",
       "      <td>5</td>\n",
       "      <td>Just what I needed</td>\n",
       "      <td>1397347200</td>\n",
       "    </tr>\n",
       "  </tbody>\n",
       "</table>\n",
       "</div>"
      ],
      "text/plain": [
       "   reviewTime      reviewerID        asin     reviewerName helpful  \\\n",
       "0  2014-05-21  A30TL5EWN6DFXT  120401325X        christina  [0, 0]   \n",
       "1  2014-01-14   ASY55RVNIL0UD  120401325X         emily l.  [0, 0]   \n",
       "2  2014-06-26  A2TMXE2AFO7ONB  120401325X            Erica  [0, 0]   \n",
       "3  2014-04-03   A8AJS1DW7L3JJ  3998899561  Agata Majchrzak  [1, 1]   \n",
       "4  2014-04-13  A2YO4SCWAWNYBI  3998899561    Alex Maslakov  [0, 0]   \n",
       "\n",
       "                                          reviewText  overall  \\\n",
       "0  They look good and stick good! I just don't li...        4   \n",
       "1  These stickers work like the review says they ...        5   \n",
       "2  These are awesome and make my phone look so st...        5   \n",
       "3  This is a fantastic case. Very stylish and pro...        5   \n",
       "4  this case fits perfectly on the s4 and keeps m...        5   \n",
       "\n",
       "                 summary  unixReviewTime  \n",
       "0             Looks Good      1400630400  \n",
       "1  Really great product.      1389657600  \n",
       "2         LOVE LOVE LOVE      1403740800  \n",
       "3           Perfect Case      1396483200  \n",
       "4     Just what I needed      1397347200  "
      ]
     },
     "execution_count": 2,
     "metadata": {},
     "output_type": "execute_result"
    }
   ],
   "source": [
    "data = pd.read_csv('review.csv')\n",
    "data.head()"
   ]
  },
  {
   "cell_type": "code",
   "execution_count": 3,
   "id": "9e910823",
   "metadata": {},
   "outputs": [],
   "source": [
    "data = data.dropna(axis=0, subset=['reviewText'])"
   ]
  },
  {
   "cell_type": "code",
   "execution_count": 4,
   "id": "51594419",
   "metadata": {},
   "outputs": [
    {
     "data": {
      "text/plain": [
       "(55014, 9)"
      ]
     },
     "execution_count": 4,
     "metadata": {},
     "output_type": "execute_result"
    }
   ],
   "source": [
    "data.shape"
   ]
  },
  {
   "cell_type": "code",
   "execution_count": 5,
   "id": "80b56ed9",
   "metadata": {},
   "outputs": [],
   "source": [
    "def preprocess(string):\n",
    "    doc = nlp(string)\n",
    "    lemma = [token.lemma_ for token in doc if token.lemma_.isalpha() or token.lemma_ not in STOP_WORDS]\n",
    "    return ' '.join(lemma)"
   ]
  },
  {
   "cell_type": "code",
   "execution_count": 6,
   "id": "7094093e",
   "metadata": {},
   "outputs": [],
   "source": [
    "X = []\n",
    "sentences = list(data['reviewText'])\n",
    "for sen in sentences:\n",
    "    X.append(preprocess(sen))\n",
    "\n",
    "y = np.array(data['overall'].map({1:0, 2:0, 3:1, 4:1, 5:1}))"
   ]
  },
  {
   "cell_type": "code",
   "execution_count": 7,
   "id": "6b32a4ca",
   "metadata": {},
   "outputs": [],
   "source": [
    "X_train, X_test, y_train, y_test = train_test_split(X, y, test_size=0.3, random_state=42)"
   ]
  },
  {
   "cell_type": "code",
   "execution_count": 8,
   "id": "019ac31f",
   "metadata": {},
   "outputs": [],
   "source": [
    "tokenizer = Tokenizer()\n",
    "tokenizer.fit_on_texts(X_train)\n",
    "\n",
    "X_train = tokenizer.texts_to_sequences(X_train)\n",
    "X_test = tokenizer.texts_to_sequences(X_test)"
   ]
  },
  {
   "cell_type": "code",
   "execution_count": 9,
   "id": "83142795",
   "metadata": {},
   "outputs": [
    {
     "name": "stdout",
     "output_type": "stream",
     "text": [
      "28867\n"
     ]
    }
   ],
   "source": [
    "print(len(tokenizer.word_index))"
   ]
  },
  {
   "cell_type": "code",
   "execution_count": 10,
   "id": "094e084c",
   "metadata": {},
   "outputs": [],
   "source": [
    "vocab_size = len(tokenizer.word_index)\n",
    "\n",
    "maxlen=200\n",
    "X_train = pad_sequences(X_train, padding='post', maxlen=maxlen)\n",
    "X_test = pad_sequences(X_test, padding='post', maxlen=maxlen)"
   ]
  },
  {
   "cell_type": "code",
   "execution_count": 11,
   "id": "059478e5",
   "metadata": {},
   "outputs": [],
   "source": [
    "model = Sequential()\n",
    "model.add(Embedding(input_dim=vocab_size+1, output_dim=300, input_length=maxlen, trainable=True, name=\"Input\"))\n",
    "model.add(Dense(300, name=\"Dense1\"))\n",
    "model.add(Dropout(rate=0.35, name=\"Dropout1\"))\n",
    "model.add(LSTM(64, return_sequences=True, dropout=0.2, name=\"LSTM\"))\n",
    "model.add(GRU(64, return_sequences=False, dropout=0.2, name=\"GRU\"))\n",
    "model.add(Dropout(rate=0.25, name=\"Dropout2\"))\n",
    "model.add(Dense(32, name=\"Dense2\"))\n",
    "model.add(Dense(1, activation='sigmoid', name=\"Output\"))\n",
    "\n",
    "model.compile(loss='binary_crossentropy', optimizer='adam', metrics=['accuracy'])"
   ]
  },
  {
   "cell_type": "code",
   "execution_count": 12,
   "id": "69544841",
   "metadata": {},
   "outputs": [
    {
     "name": "stdout",
     "output_type": "stream",
     "text": [
      "Model: \"sequential\"\n",
      "_________________________________________________________________\n",
      " Layer (type)                Output Shape              Param #   \n",
      "=================================================================\n",
      " Input (Embedding)           (None, 200, 300)          8660400   \n",
      "                                                                 \n",
      " Dense1 (Dense)              (None, 200, 300)          90300     \n",
      "                                                                 \n",
      " Dropout1 (Dropout)          (None, 200, 300)          0         \n",
      "                                                                 \n",
      " LSTM (LSTM)                 (None, 200, 64)           93440     \n",
      "                                                                 \n",
      " GRU (GRU)                   (None, 64)                24960     \n",
      "                                                                 \n",
      " Dense2 (Dense)              (None, 64)                4160      \n",
      "                                                                 \n",
      " Dropout2 (Dropout)          (None, 64)                0         \n",
      "                                                                 \n",
      " Dense3 (Dense)              (None, 32)                2080      \n",
      "                                                                 \n",
      " Output (Dense)              (None, 1)                 33        \n",
      "                                                                 \n",
      "=================================================================\n",
      "Total params: 8,875,373\n",
      "Trainable params: 8,875,373\n",
      "Non-trainable params: 0\n",
      "_________________________________________________________________\n"
     ]
    }
   ],
   "source": [
    "model.summary()"
   ]
  },
  {
   "cell_type": "code",
   "execution_count": null,
   "id": "ac0e0d19",
   "metadata": {},
   "outputs": [
    {
     "name": "stdout",
     "output_type": "stream",
     "text": [
      "Epoch 1/40\n",
      "108/108 [==============================] - 356s 3s/step - loss: 0.3679 - accuracy: 0.8854 - val_loss: 0.3556 - val_accuracy: 0.8854\n",
      "Epoch 2/40\n",
      "108/108 [==============================] - 328s 3s/step - loss: 0.3566 - accuracy: 0.8863 - val_loss: 0.3583 - val_accuracy: 0.8854\n",
      "Epoch 3/40\n",
      "108/108 [==============================] - 330s 3s/step - loss: 0.3503 - accuracy: 0.8866 - val_loss: 0.3561 - val_accuracy: 0.8852\n",
      "Epoch 4/40\n",
      "108/108 [==============================] - 331s 3s/step - loss: 0.3426 - accuracy: 0.8891 - val_loss: 0.3587 - val_accuracy: 0.8855\n",
      "Epoch 5/40\n",
      "108/108 [==============================] - 335s 3s/step - loss: 0.3376 - accuracy: 0.8903 - val_loss: 0.3627 - val_accuracy: 0.8838\n",
      "Epoch 6/40\n",
      "108/108 [==============================] - 332s 3s/step - loss: 0.3330 - accuracy: 0.8924 - val_loss: 0.3738 - val_accuracy: 0.8847\n",
      "Epoch 7/40\n",
      "108/108 [==============================] - 340s 3s/step - loss: 0.3297 - accuracy: 0.8932 - val_loss: 0.4664 - val_accuracy: 0.8780\n",
      "Epoch 8/40\n",
      "108/108 [==============================] - 348s 3s/step - loss: 0.3303 - accuracy: 0.8930 - val_loss: 0.3853 - val_accuracy: 0.8835\n",
      "Epoch 9/40\n",
      "108/108 [==============================] - 351s 3s/step - loss: 0.3212 - accuracy: 0.8935 - val_loss: 0.3652 - val_accuracy: 0.8835\n",
      "Epoch 10/40\n",
      "108/108 [==============================] - 342s 3s/step - loss: 0.2511 - accuracy: 0.9023 - val_loss: 0.2371 - val_accuracy: 0.9115\n",
      "Epoch 11/40\n",
      "108/108 [==============================] - 360s 3s/step - loss: 0.1836 - accuracy: 0.9301 - val_loss: 0.2337 - val_accuracy: 0.9181\n",
      "Epoch 12/40\n",
      "108/108 [==============================] - 371s 3s/step - loss: 0.1393 - accuracy: 0.9472 - val_loss: 0.2340 - val_accuracy: 0.9180\n",
      "Epoch 13/40\n",
      "108/108 [==============================] - 363s 3s/step - loss: 0.1137 - accuracy: 0.9572 - val_loss: 0.2663 - val_accuracy: 0.9150\n",
      "Epoch 14/40\n",
      "108/108 [==============================] - 359s 3s/step - loss: 0.0911 - accuracy: 0.9667 - val_loss: 0.2877 - val_accuracy: 0.9163\n",
      "Epoch 15/40\n",
      "108/108 [==============================] - 346s 3s/step - loss: 0.0758 - accuracy: 0.9725 - val_loss: 0.2899 - val_accuracy: 0.9138\n",
      "Epoch 16/40\n",
      "108/108 [==============================] - 335s 3s/step - loss: 0.0608 - accuracy: 0.9788 - val_loss: 0.3540 - val_accuracy: 0.9095\n",
      "Epoch 17/40\n",
      "108/108 [==============================] - 337s 3s/step - loss: 0.0549 - accuracy: 0.9803 - val_loss: 0.3430 - val_accuracy: 0.9098\n",
      "Epoch 18/40\n",
      "108/108 [==============================] - 344s 3s/step - loss: 0.0463 - accuracy: 0.9840 - val_loss: 0.4189 - val_accuracy: 0.9066\n",
      "Epoch 19/40\n",
      " 78/108 [====================>.........] - ETA: 1:26 - loss: 0.0399 - accuracy: 0.9863"
     ]
    }
   ],
   "source": [
    "model.fit(X_train, y_train, batch_size=500, epochs=40, validation_split=0.3)"
   ]
  },
  {
   "cell_type": "code",
   "execution_count": 70,
   "id": "19c56550",
   "metadata": {},
   "outputs": [
    {
     "name": "stdout",
     "output_type": "stream",
     "text": [
      "516/516 [==============================] - 88s 171ms/step - loss: 0.3549 - accuracy: 0.8842\n"
     ]
    },
    {
     "data": {
      "text/plain": [
       "[0.3549400866031647, 0.8842169046401978]"
      ]
     },
     "execution_count": 70,
     "metadata": {},
     "output_type": "execute_result"
    }
   ],
   "source": [
    "model.evaluate(X_test, y_test)"
   ]
  },
  {
   "cell_type": "code",
   "execution_count": null,
   "id": "d160758d",
   "metadata": {},
   "outputs": [],
   "source": []
  }
 ],
 "metadata": {
  "kernelspec": {
   "display_name": "Python 3 (ipykernel)",
   "language": "python",
   "name": "python3"
  },
  "language_info": {
   "codemirror_mode": {
    "name": "ipython",
    "version": 3
   },
   "file_extension": ".py",
   "mimetype": "text/x-python",
   "name": "python",
   "nbconvert_exporter": "python",
   "pygments_lexer": "ipython3",
   "version": "3.10.4"
  }
 },
 "nbformat": 4,
 "nbformat_minor": 5
}

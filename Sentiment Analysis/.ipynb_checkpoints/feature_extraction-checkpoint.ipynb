{
 "cells": [
  {
   "cell_type": "code",
   "execution_count": 1,
   "metadata": {},
   "outputs": [],
   "source": [
    "from Data import Data\n",
    "from Feature_Extraction import Feature_extraction\n",
    "import nltk\n",
    "import re"
   ]
  },
  {
   "cell_type": "code",
   "execution_count": 2,
   "metadata": {},
   "outputs": [],
   "source": [
    "data = Data()"
   ]
  },
  {
   "cell_type": "code",
   "execution_count": 3,
   "metadata": {},
   "outputs": [],
   "source": [
    "feat_data = Feature_extraction(data)"
   ]
  },
  {
   "cell_type": "code",
   "execution_count": 4,
   "metadata": {},
   "outputs": [
    {
     "data": {
      "text/html": [
       "<div>\n",
       "<style scoped>\n",
       "    .dataframe tbody tr th:only-of-type {\n",
       "        vertical-align: middle;\n",
       "    }\n",
       "\n",
       "    .dataframe tbody tr th {\n",
       "        vertical-align: top;\n",
       "    }\n",
       "\n",
       "    .dataframe thead th {\n",
       "        text-align: right;\n",
       "    }\n",
       "</style>\n",
       "<table border=\"1\" class=\"dataframe\">\n",
       "  <thead>\n",
       "    <tr style=\"text-align: right;\">\n",
       "      <th></th>\n",
       "      <th>reviewTime</th>\n",
       "      <th>reviewerID</th>\n",
       "      <th>asin</th>\n",
       "      <th>reviewerName</th>\n",
       "      <th>helpful</th>\n",
       "      <th>reviewText</th>\n",
       "      <th>overall</th>\n",
       "      <th>summary</th>\n",
       "      <th>unixReviewTime</th>\n",
       "    </tr>\n",
       "  </thead>\n",
       "  <tbody>\n",
       "    <tr>\n",
       "      <th>0</th>\n",
       "      <td>2014-05-21</td>\n",
       "      <td>A30TL5EWN6DFXT</td>\n",
       "      <td>120401325X</td>\n",
       "      <td>christina</td>\n",
       "      <td>[0, 0]</td>\n",
       "      <td>They look good and stick good! I just don't li...</td>\n",
       "      <td>4</td>\n",
       "      <td>Looks Good</td>\n",
       "      <td>1400630400</td>\n",
       "    </tr>\n",
       "    <tr>\n",
       "      <th>1</th>\n",
       "      <td>2014-01-14</td>\n",
       "      <td>ASY55RVNIL0UD</td>\n",
       "      <td>120401325X</td>\n",
       "      <td>emily l.</td>\n",
       "      <td>[0, 0]</td>\n",
       "      <td>These stickers work like the review says they ...</td>\n",
       "      <td>5</td>\n",
       "      <td>Really great product.</td>\n",
       "      <td>1389657600</td>\n",
       "    </tr>\n",
       "    <tr>\n",
       "      <th>2</th>\n",
       "      <td>2014-06-26</td>\n",
       "      <td>A2TMXE2AFO7ONB</td>\n",
       "      <td>120401325X</td>\n",
       "      <td>Erica</td>\n",
       "      <td>[0, 0]</td>\n",
       "      <td>These are awesome and make my phone look so st...</td>\n",
       "      <td>5</td>\n",
       "      <td>LOVE LOVE LOVE</td>\n",
       "      <td>1403740800</td>\n",
       "    </tr>\n",
       "    <tr>\n",
       "      <th>3</th>\n",
       "      <td>2014-04-03</td>\n",
       "      <td>A8AJS1DW7L3JJ</td>\n",
       "      <td>3998899561</td>\n",
       "      <td>Agata Majchrzak</td>\n",
       "      <td>[1, 1]</td>\n",
       "      <td>This is a fantastic case. Very stylish and pro...</td>\n",
       "      <td>5</td>\n",
       "      <td>Perfect Case</td>\n",
       "      <td>1396483200</td>\n",
       "    </tr>\n",
       "    <tr>\n",
       "      <th>4</th>\n",
       "      <td>2014-04-13</td>\n",
       "      <td>A2YO4SCWAWNYBI</td>\n",
       "      <td>3998899561</td>\n",
       "      <td>Alex Maslakov</td>\n",
       "      <td>[0, 0]</td>\n",
       "      <td>this case fits perfectly on the s4 and keeps m...</td>\n",
       "      <td>5</td>\n",
       "      <td>Just what I needed</td>\n",
       "      <td>1397347200</td>\n",
       "    </tr>\n",
       "  </tbody>\n",
       "</table>\n",
       "</div>"
      ],
      "text/plain": [
       "  reviewTime      reviewerID        asin     reviewerName helpful  \\\n",
       "0 2014-05-21  A30TL5EWN6DFXT  120401325X        christina  [0, 0]   \n",
       "1 2014-01-14   ASY55RVNIL0UD  120401325X         emily l.  [0, 0]   \n",
       "2 2014-06-26  A2TMXE2AFO7ONB  120401325X            Erica  [0, 0]   \n",
       "3 2014-04-03   A8AJS1DW7L3JJ  3998899561  Agata Majchrzak  [1, 1]   \n",
       "4 2014-04-13  A2YO4SCWAWNYBI  3998899561    Alex Maslakov  [0, 0]   \n",
       "\n",
       "                                          reviewText  overall  \\\n",
       "0  They look good and stick good! I just don't li...        4   \n",
       "1  These stickers work like the review says they ...        5   \n",
       "2  These are awesome and make my phone look so st...        5   \n",
       "3  This is a fantastic case. Very stylish and pro...        5   \n",
       "4  this case fits perfectly on the s4 and keeps m...        5   \n",
       "\n",
       "                 summary  unixReviewTime  \n",
       "0             Looks Good      1400630400  \n",
       "1  Really great product.      1389657600  \n",
       "2         LOVE LOVE LOVE      1403740800  \n",
       "3           Perfect Case      1396483200  \n",
       "4     Just what I needed      1397347200  "
      ]
     },
     "execution_count": 4,
     "metadata": {},
     "output_type": "execute_result"
    }
   ],
   "source": [
    "data.get_data().head()"
   ]
  },
  {
   "cell_type": "code",
   "execution_count": 5,
   "metadata": {},
   "outputs": [],
   "source": [
    "new_data = feat_data.add_features().get_data()"
   ]
  },
  {
   "cell_type": "code",
   "execution_count": 6,
   "metadata": {},
   "outputs": [
    {
     "data": {
      "text/plain": [
       "Index(['reviewTime', 'reviewerID', 'asin', 'reviewerName', 'helpful',\n",
       "       'reviewText', 'overall', 'summary', 'unixReviewTime', 'num_char',\n",
       "       'word_count', 'avg_word_length', 'hashtag_count'],\n",
       "      dtype='object')"
      ]
     },
     "execution_count": 6,
     "metadata": {},
     "output_type": "execute_result"
    }
   ],
   "source": [
    "new_data.columns"
   ]
  },
  {
   "cell_type": "code",
   "execution_count": null,
   "metadata": {},
   "outputs": [],
   "source": []
  }
 ],
 "metadata": {
  "kernelspec": {
   "display_name": "Python 3 (ipykernel)",
   "language": "python",
   "name": "python3"
  },
  "language_info": {
   "codemirror_mode": {
    "name": "ipython",
    "version": 3
   },
   "file_extension": ".py",
   "mimetype": "text/x-python",
   "name": "python",
   "nbconvert_exporter": "python",
   "pygments_lexer": "ipython3",
   "version": "3.10.4"
  },
  "vscode": {
   "interpreter": {
    "hash": "26cfae66c0740703af8c3169b7782d0243c55b395d9111fcb14a879c6a471c2d"
   }
  }
 },
 "nbformat": 4,
 "nbformat_minor": 2
}

{
 "cells": [
  {
   "cell_type": "code",
   "execution_count": null,
   "id": "8cc8b23f",
   "metadata": {},
   "outputs": [],
   "source": [
    "import numpy as np\n",
    "import pandas as pd\n",
    "import tensorflow as tf\n",
    "from tensorflow.keras.losses import SparseCategoricalCrossentropy\n",
    "from datasets import Dataset\n",
    "from transformers import AutoTokenizer, TFAutoModelForSequenceClassification, TFBertModel, DataCollatorWithPadding"
   ]
  },
  {
   "cell_type": "code",
   "execution_count": null,
   "id": "40e6d125",
   "metadata": {
    "scrolled": true
   },
   "outputs": [],
   "source": [
    "checkpoint = \"bert-base-uncased\"\n",
    "tokenizer = AutoTokenizer.from_pretrained(checkpoint)\n",
    "model = TFAutoModelForSequenceClassification.from_pretrained(checkpoint)\n",
    "data_collator = DataCollatorWithPadding(tokenizer=tokenizer, return_tensors=\"tf\")"
   ]
  },
  {
   "cell_type": "code",
   "execution_count": null,
   "id": "c0656fd7",
   "metadata": {},
   "outputs": [],
   "source": [
    "df = pd.read_csv('review.csv')\n",
    "df = df.dropna(axis=0, subset=['reviewText'])\n",
    "df['sentiment'] = df['overall'].map({1:0, 2:0, 3:1, 4:1, 5:1})\n",
    "df = df[[\"sentiment\", \"reviewText\"]]"
   ]
  },
  {
   "cell_type": "code",
   "execution_count": null,
   "id": "a8d1f8aa",
   "metadata": {},
   "outputs": [],
   "source": [
    "dataset = Dataset.from_pandas(df)\n",
    "dataset = dataset.train_test_split(test_size=0.1)"
   ]
  },
  {
   "cell_type": "code",
   "execution_count": null,
   "id": "ab62facc",
   "metadata": {},
   "outputs": [],
   "source": [
    "def tokenization(review):\n",
    "    return tokenizer(review[\"reviewText\"], padding=True)"
   ]
  },
  {
   "cell_type": "code",
   "execution_count": null,
   "id": "ceb1b99d",
   "metadata": {},
   "outputs": [],
   "source": [
    "tok_data = dataset.map(tokenization, batched=True)"
   ]
  },
  {
   "cell_type": "code",
   "execution_count": 7,
   "id": "c019055b",
   "metadata": {},
   "outputs": [
    {
     "name": "stdout",
     "output_type": "stream",
     "text": [
      "Object `dataset.train_test_split()` not found.\n"
     ]
    }
   ],
   "source": [
    "tf_train_data = tok_data[\"train\"].to_tf_dataset(\n",
    "                            columns=['attention_mask', 'input_ids', 'token_type_ids'],\n",
    "                            label_cols=['labels'],\n",
    "                            shuffle=False,\n",
    "                            collate_fn=data_collator,\n",
    "                            batch_size=8)"
   ]
  },
  {
   "cell_type": "code",
   "execution_count": null,
   "id": "7690282a",
   "metadata": {},
   "outputs": [],
   "source": [
    "model.compile(\n",
    "    optimizer=\"adam\",\n",
    "    loss=SparseCategoricalCrossentropy(from_logits=True),\n",
    "    metrics=[\"accuracy\"],\n",
    ")\n",
    "model.fit(\n",
    "    tf_train_data,\n",
    ")"
   ]
  },
  {
   "cell_type": "code",
   "execution_count": null,
   "id": "bbd4a461",
   "metadata": {},
   "outputs": [],
   "source": []
  },
  {
   "cell_type": "code",
   "execution_count": null,
   "id": "2535904f",
   "metadata": {},
   "outputs": [],
   "source": []
  },
  {
   "cell_type": "code",
   "execution_count": null,
   "id": "68302b60",
   "metadata": {},
   "outputs": [],
   "source": [
    "sequences = [\"I love apostle's message, it is always spirit filled\", \n",
    "             \"Landmark university has good discipline, but the staffs make the school unbearable\"]"
   ]
  }
 ],
 "metadata": {
  "kernelspec": {
   "display_name": "Python 3 (ipykernel)",
   "language": "python",
   "name": "python3"
  },
  "language_info": {
   "codemirror_mode": {
    "name": "ipython",
    "version": 3
   },
   "file_extension": ".py",
   "mimetype": "text/x-python",
   "name": "python",
   "nbconvert_exporter": "python",
   "pygments_lexer": "ipython3",
   "version": "3.10.4"
  }
 },
 "nbformat": 4,
 "nbformat_minor": 5
}

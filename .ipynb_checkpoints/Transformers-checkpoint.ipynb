{
 "cells": [
  {
   "cell_type": "code",
   "execution_count": 1,
   "id": "f2910266",
   "metadata": {},
   "outputs": [],
   "source": [
    "from transformers import AutoTokenizer\n",
    "from transformers import TFAutoModelForSequenceClassification"
   ]
  },
  {
   "cell_type": "code",
   "execution_count": null,
   "id": "f5cbe28f",
   "metadata": {},
   "outputs": [],
   "source": [
    "checkpoint = \"distilbert-base-uncased-finetuned-sst-2-english\"\n",
    "tokenizer = AutoTokenizer.from_pretrained(checkpoint)\n",
    "model = TFAutoModelForSequenceClassification.from_pretrained(checkpoint)"
   ]
  },
  {
   "cell_type": "code",
   "execution_count": 12,
   "id": "9164fd34",
   "metadata": {},
   "outputs": [],
   "source": [
    "raw_inputs = [\n",
    "    \"I love apostle's message, it is always spirit filled\", \n",
    "    \"Landmark university has good discipline, but the staffs make the school unbearable\"\n",
    "]"
   ]
  },
  {
   "cell_type": "code",
   "execution_count": 13,
   "id": "cf235942",
   "metadata": {},
   "outputs": [],
   "source": [
    "inputs = tokenizer(raw_inputs, padding=True, truncation=True, return_tensors='tf')\n",
    "outputs = model(inputs)"
   ]
  },
  {
   "cell_type": "code",
   "execution_count": 14,
   "id": "3574a20e",
   "metadata": {},
   "outputs": [
    {
     "name": "stdout",
     "output_type": "stream",
     "text": [
      "{'input_ids': <tf.Tensor: shape=(2, 16), dtype=int32, numpy=\n",
      "array([[  101,  1045,  2293, 20121,  1005,  1055,  4471,  1010,  2009,\n",
      "         2003,  2467,  4382,  3561,   102,     0,     0],\n",
      "       [  101,  8637,  2118,  2038,  2204,  9009,  1010,  2021,  1996,\n",
      "         3095,  2015,  2191,  1996,  2082, 24257,   102]])>, 'attention_mask': <tf.Tensor: shape=(2, 16), dtype=int32, numpy=\n",
      "array([[1, 1, 1, 1, 1, 1, 1, 1, 1, 1, 1, 1, 1, 1, 0, 0],\n",
      "       [1, 1, 1, 1, 1, 1, 1, 1, 1, 1, 1, 1, 1, 1, 1, 1]])>}\n"
     ]
    }
   ],
   "source": [
    "print(inputs)"
   ]
  },
  {
   "cell_type": "code",
   "execution_count": 23,
   "id": "fae87f5d",
   "metadata": {},
   "outputs": [
    {
     "name": "stdout",
     "output_type": "stream",
     "text": [
      "tf.Tensor(\n",
      "[[[ 0.37385613  0.0119298   0.23416589 ...  0.3183204   0.98529905\n",
      "   -0.49220636]\n",
      "  [ 0.70384085  0.3422688   0.19230537 ...  0.3343934   1.1143095\n",
      "   -0.38301998]\n",
      "  [ 0.856921    0.44062868  0.34573278 ...  0.32101107  1.0842397\n",
      "   -0.3419956 ]\n",
      "  ...\n",
      "  [ 1.2280487   0.14038359  0.6596221  ...  0.613811    0.7697899\n",
      "   -0.88743466]\n",
      "  [ 0.31570143 -0.13121307  0.12153672 ...  0.42600983  0.9004798\n",
      "   -0.27304545]\n",
      "  [ 0.37800097 -0.04787834  0.07781225 ...  0.45051974  0.88421273\n",
      "   -0.19998364]]\n",
      "\n",
      " [[-0.43699124  0.7372221   0.18917045 ... -0.17812465 -0.1702532\n",
      "   -0.18818647]\n",
      "  [ 0.12658073  1.229425    0.27286214 ... -0.230544    0.80006886\n",
      "   -0.43952012]\n",
      "  [-0.2446475   1.0670198   0.1162011  ... -0.21610022  0.87253255\n",
      "    0.15578657]\n",
      "  ...\n",
      "  [-0.36935547  0.9202494   0.22073224 ... -0.14819282 -0.37498474\n",
      "   -0.0406535 ]\n",
      "  [-0.6024419   0.83799136  0.26293394 ... -0.08752455 -0.3994203\n",
      "   -0.37209523]\n",
      "  [-0.09525004  1.0783511   0.13140976 ... -0.3621051  -0.28675422\n",
      "   -0.3268767 ]]], shape=(2, 16, 768), dtype=float32)\n"
     ]
    }
   ],
   "source": [
    "print(outputs.last_hidden_state)"
   ]
  },
  {
   "cell_type": "code",
   "execution_count": null,
   "id": "a2875408",
   "metadata": {},
   "outputs": [],
   "source": []
  }
 ],
 "metadata": {
  "kernelspec": {
   "display_name": "Python 3 (ipykernel)",
   "language": "python",
   "name": "python3"
  },
  "language_info": {
   "codemirror_mode": {
    "name": "ipython",
    "version": 3
   },
   "file_extension": ".py",
   "mimetype": "text/x-python",
   "name": "python",
   "nbconvert_exporter": "python",
   "pygments_lexer": "ipython3",
   "version": "3.10.4"
  }
 },
 "nbformat": 4,
 "nbformat_minor": 5
}

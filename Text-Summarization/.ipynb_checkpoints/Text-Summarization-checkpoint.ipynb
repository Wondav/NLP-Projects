{
 "cells": [
  {
   "cell_type": "code",
   "execution_count": 1,
   "id": "6da1326a",
   "metadata": {},
   "outputs": [],
   "source": [
    "from datasets import load_dataset\n",
    "from transformers import AutoTokenizer, DataCollatorForSeq2Seq, TFAutoModelForSeq2SeqLM, create_optimizer\n",
    "import tensorflow as tf"
   ]
  },
  {
   "cell_type": "code",
   "execution_count": 2,
   "id": "9df4085b",
   "metadata": {},
   "outputs": [
    {
     "name": "stderr",
     "output_type": "stream",
     "text": [
      "Using custom data configuration kmfoda--booksum-025141c210e07407\n",
      "Found cached dataset csv (C:/Users/Wonder-David Efe/.cache/huggingface/datasets/kmfoda___csv/kmfoda--booksum-025141c210e07407/0.0.0/6b34fb8fcf56f7c8ba51dc895bfa2bfbe43546f190a60fcf74bb5e8afdcc2317)\n"
     ]
    },
    {
     "data": {
      "application/json": {
       "ascii": false,
       "bar_format": null,
       "colour": null,
       "elapsed": 0.07992196083068848,
       "initial": 0,
       "n": 0,
       "ncols": null,
       "nrows": 29,
       "postfix": null,
       "prefix": "",
       "rate": null,
       "total": 3,
       "unit": "it",
       "unit_divisor": 1000,
       "unit_scale": false
      },
      "application/vnd.jupyter.widget-view+json": {
       "model_id": "d1b3865ceba04cacbd63d6fe41792ae4",
       "version_major": 2,
       "version_minor": 0
      },
      "text/plain": [
       "  0%|          | 0/3 [00:00<?, ?it/s]"
      ]
     },
     "metadata": {},
     "output_type": "display_data"
    }
   ],
   "source": [
    "dataset = load_dataset('kmfoda/booksum')"
   ]
  },
  {
   "cell_type": "code",
   "execution_count": 3,
   "id": "c900808c",
   "metadata": {},
   "outputs": [
    {
     "data": {
      "text/plain": [
       "DatasetDict({\n",
       "    train: Dataset({\n",
       "        features: ['bid', 'is_aggregate', 'source', 'chapter_path', 'summary_path', 'book_id', 'summary_id', 'content', 'summary', 'chapter', 'chapter_length', 'summary_name', 'summary_url', 'summary_text', 'summary_analysis', 'summary_length', 'analysis_length'],\n",
       "        num_rows: 9600\n",
       "    })\n",
       "    test: Dataset({\n",
       "        features: ['bid', 'is_aggregate', 'source', 'chapter_path', 'summary_path', 'book_id', 'summary_id', 'content', 'summary', 'chapter', 'chapter_length', 'summary_name', 'summary_url', 'summary_text', 'summary_analysis', 'summary_length', 'analysis_length'],\n",
       "        num_rows: 1431\n",
       "    })\n",
       "    validation: Dataset({\n",
       "        features: ['bid', 'is_aggregate', 'source', 'chapter_path', 'summary_path', 'book_id', 'summary_id', 'content', 'summary', 'chapter', 'chapter_length', 'summary_name', 'summary_url', 'summary_text', 'summary_analysis', 'summary_length', 'analysis_length'],\n",
       "        num_rows: 1484\n",
       "    })\n",
       "})"
      ]
     },
     "execution_count": 3,
     "metadata": {},
     "output_type": "execute_result"
    }
   ],
   "source": [
    "dataset"
   ]
  },
  {
   "cell_type": "code",
   "execution_count": 4,
   "id": "4b9f5fce",
   "metadata": {},
   "outputs": [
    {
     "name": "stderr",
     "output_type": "stream",
     "text": [
      "All model checkpoint layers were used when initializing TFPegasusForConditionalGeneration.\n",
      "\n",
      "Some layers of TFPegasusForConditionalGeneration were not initialized from the model checkpoint at google/pegasus-xsum and are newly initialized: ['final_logits_bias']\n",
      "You should probably TRAIN this model on a down-stream task to be able to use it for predictions and inference.\n"
     ]
    }
   ],
   "source": [
    "model_checkpoint = 'google/pegasus-xsum'\n",
    "tokenizer = AutoTokenizer.from_pretrained(model_checkpoint)\n",
    "model = TFAutoModelForSeq2SeqLM.from_pretrained(model_checkpoint)\n",
    "collator = DataCollatorForSeq2Seq(tokenizer, return_tensors=\"tf\")"
   ]
  },
  {
   "cell_type": "code",
   "execution_count": 5,
   "id": "1915a2d8",
   "metadata": {},
   "outputs": [],
   "source": [
    "def process(example):\n",
    "    model_data = tokenizer(example['chapter'], truncation=True)\n",
    "    model_label = tokenizer(example['summary'].split('\"summary\":')[-1][:-1], truncation=True)\n",
    "    model_data['labels'] = model_label['input_ids']\n",
    "    return model_data"
   ]
  },
  {
   "cell_type": "code",
   "execution_count": null,
   "id": "50dc62c2",
   "metadata": {},
   "outputs": [],
   "source": [
    "tok_df = dataset.map(process, batched=True)"
   ]
  },
  {
   "cell_type": "code",
   "execution_count": null,
   "id": "4a0ae8d4",
   "metadata": {},
   "outputs": [],
   "source": [
    "tf_train_dataset = model.prepare_tf_dataset(\n",
    "    tokenized_datasets[\"train\"],\n",
    "    collate_fn=data_collator,\n",
    "    shuffle=True,\n",
    "    batch_size=8,\n",
    ")\n",
    "tf_eval_dataset = model.prepare_tf_dataset(\n",
    "    tokenized_datasets[\"validation\"],\n",
    "    collate_fn=data_collator,\n",
    "    shuffle=False,\n",
    "    batch_size=8,\n",
    ")"
   ]
  },
  {
   "cell_type": "code",
   "execution_count": null,
   "id": "1fd5efa1",
   "metadata": {},
   "outputs": [],
   "source": [
    "num_train_epochs = 8\n",
    "num_train_steps = len(tf_train_dataset) * num_train_epochs\n",
    "model_name = model_checkpoint.split(\"/\")[-1]\n",
    "\n",
    "optimizer, schedule = create_optimizer(\n",
    "    init_lr=5.6e-5,\n",
    "    num_warmup_steps=0,\n",
    "    num_train_steps=num_train_steps,\n",
    "    weight_decay_rate=0.01,\n",
    ")\n",
    "\n",
    "model.compile(optimizer=optimizer)\n",
    "\n",
    "# Train in mixed-precision float16\n",
    "tf.keras.mixed_precision.set_global_policy(\"mixed_float16\")"
   ]
  },
  {
   "cell_type": "code",
   "execution_count": null,
   "id": "57a39ff7",
   "metadata": {},
   "outputs": [],
   "source": [
    "model.fit(\n",
    "    tf_train_dataset, validation_data=tf_eval_dataset, epochs=8\n",
    ")"
   ]
  },
  {
   "cell_type": "code",
   "execution_count": 18,
   "id": "96a20543",
   "metadata": {},
   "outputs": [
    {
     "data": {
      "text/plain": [
       "' \"Feeling that the cry is some kind of warning, whether intended or not, Hawkeye leads the entire party from the caves. As Heyward remarks upon the loveliness of the scene, the horrifying sound comes again as if from the bed of the river, and Heyward now recognizes it as the shriek of a horse in terror. The scout\\'s reckoning that the horses are frightened by hovering wolves is immediately confirmed by a long howl that swiftly recedes into the depths of the forest, an abandonment that indicates enemy Indians are near. Once again secure in his knowledge of things, Hawkeye directs everyone to hide in moon shadows where they have a full view of both shores. Hours pass, and all fall asleep except the ever watchful scout and the Mohicans. The moon sets, and as pale dawn begins, the Iroquois attack with hellish yells and rifle reports. Gamut exposes himself, is wounded, and falls unconscious, while Hawkeye slips below and shoots one enemy, afterwards saying that their only hope is to hold the rock until Munro sends a party to help them. Heyward takes the girls into the outer cave where the reviving Gamut has been taken. As Cora reminds him how much his safety means to them, the major glances at Alice, reassures them, and rejoins the others outside. He and the scout deploy themselves in a little thicket of pines below the rock that splits the falls. Dawn comes. Then a long, anxious, and quiet watch succeeds until Hawkeye detects that four Indians have swum dangerously down to the rock above the defenders. As they wait, a fifth one, struggling to reach the rock, is thrown into the air and over the falls with a single, despairing shriek. After whistling Uncas to them, Hawkeye and the warrior shoot two Indians as the four charge them. When Heyward\\'s pistols misfire, he and the scout grapple hand-to-hand with the two remaining enemies until Hawkeye dispatches his foe with a knife. Heyward is about to be dragged over the precipice with the other when Uncas severs the tendons of the Iroquois\\' wrist and grabs Heyward as the wounded savage falls to his destruction. As the survivors take cover, the Indians on shore yell and fire, and a give-and-take battle begins. One Iroquois, who has climbed an oak tree near shore, fires down upon the protagonists and slightly wounds Heyward. Setting up a crossfire with Chingachgook, Hawkeye fires his rifle \\\\\"Killdeer\\\\\" and wounds the savage, who is left swinging in the wind with a desperate grasp on a branch. To save powder, the scout refuses to show mercy and finish the kill, but he weakens and discharges his last powder and bullet as the man falls toward the rocks and water. Uncas goes for munitions in the canoe only to find an Indian swimming away with it. Now essentially bereft of defensive means, the Mohicans scoff at their enemies and prepare for death. Hawkeye is quietly and stoically preparing himself also when Cora, who has been brave all along, entreats the men to escape downstream and effect a rescue. Convinced of her reason, Chingachgook slips under the water and away. After telling her to leave a marked trail if they are captured, Hawkeye carefully lays \\\\\"Killdeer\\\\\" aside and disappears into the water. Uncas remains until Cora, lowering her eyes, asks him to go to her father as her \\\\\"most confidential\\\\\" messenger; then he also drops into the water. When Heyward refuses to leave on the grounds that his presence may keep the girls from evils worse than death, Cora draws \\\\\"the nearly insensible Alice after her into the deepest recess of the inner cavern.\\\\\"\", \"analysis\": \"While outwardly these two chapters are concerned chiefly with fright and action for entertaining the reader and multiplying difficulties for the characters, it also portrays the bloody cross-purposes of frontier strife: seven Iroquois are killed and two white men are wounded, while the male protagonists are finally confronted with a moral dilemma. Are they to face danger and probable death with calm, frontal bravery, or are they to turn to subterfuge and escape, hoping to effect a rescue but running the risk of being deserters? It is a bigger problem than that found in most sentimental novels, where woman\\'s greatest threat is usually to her virtue or reputation. Here it involves the age-old physical responsibility of the male for the female and -- greater yet -- of the strong for the weak, the typical assumption in the myth of the American frontiersman. The decision and resultant escape of Hawkeye, whose Christian reasoning is notably different from that of the Mohicans, is of a piece with the American self-ideal about necessity and the ingenuity of \\\\\"finding a way out.\\\\\" The fortitude of Cora at this point is also consistent with the accredited strength of American pioneer womanhood; it is she who sees beyond the immediate grave situation to a possible desperate solution for which she femininely entreats rather than insists. Further, though Cooper\\'s females only seldom do so, in this instance Cora takes on the three-dimensional qualities of a real woman character when, revealing a bit of her personal feelings and utilizing Uncas\\', she urges the subtle distinction about messengers which leads the young Mohican to escape also. At his best, Cooper is not a novelist who presses his thematic elements very hard upon his reader. But the preceding elements are in these two chapters, and so are others such as the rifle lore that Hawkeye voices during the battles. The two white men from Fort Edward are significantly wounded in this raw frontier condition that is new to them. Although as yet unaware of it, Gamut is already confronting what Hawkeye knows and, after the psalmodist is unconscious, voices: that \\\\\"singing won\\'t do any good with the Iroquois.\\\\\" Thus in the singing master, religious idealism and reality are meeting head-on. Also, Cooper is very slowly and carefully developing the attraction between Uncas and Cora. The surplus sentimental heroine is gradually being paired with a hero, but it is an original pairing that involves the conservative idea of racial \\\\\"place\\\\\" and is to result in tragic complications. While the story moves along at a brisk pace with action and Indian customs such as the preparation for dying, Cooper is touching upon and getting ready to develop further more crucial aspects of the frontier situation in the New World.\"'"
      ]
     },
     "execution_count": 18,
     "metadata": {},
     "output_type": "execute_result"
    }
   ],
   "source": [
    "dataset['train'][5]['summary']"
   ]
  },
  {
   "cell_type": "code",
   "execution_count": null,
   "id": "73e5ebb4",
   "metadata": {},
   "outputs": [],
   "source": []
  }
 ],
 "metadata": {
  "kernelspec": {
   "display_name": "Python 3 (ipykernel)",
   "language": "python",
   "name": "python3"
  },
  "language_info": {
   "codemirror_mode": {
    "name": "ipython",
    "version": 3
   },
   "file_extension": ".py",
   "mimetype": "text/x-python",
   "name": "python",
   "nbconvert_exporter": "python",
   "pygments_lexer": "ipython3",
   "version": "3.10.6"
  }
 },
 "nbformat": 4,
 "nbformat_minor": 5
}
